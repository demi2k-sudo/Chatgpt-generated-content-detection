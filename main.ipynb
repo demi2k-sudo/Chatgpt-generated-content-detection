{
 "cells": [
  {
   "cell_type": "code",
   "execution_count": 1,
   "id": "1b06032f",
   "metadata": {
    "_cell_guid": "b1076dfc-b9ad-4769-8c92-a6c4dae69d19",
    "_uuid": "8f2839f25d086af736a60e9eeb907d3b93b6e0e5",
    "execution": {
     "iopub.execute_input": "2023-11-24T17:49:57.697376Z",
     "iopub.status.busy": "2023-11-24T17:49:57.697043Z",
     "iopub.status.idle": "2023-11-24T17:49:59.028799Z",
     "shell.execute_reply": "2023-11-24T17:49:59.027953Z"
    },
    "papermill": {
     "duration": 1.343422,
     "end_time": "2023-11-24T17:49:59.031878",
     "exception": false,
     "start_time": "2023-11-24T17:49:57.688456",
     "status": "completed"
    },
    "tags": []
   },
   "outputs": [
    {
     "name": "stdout",
     "output_type": "stream",
     "text": [
      "/kaggle/input/hf-model/config.json\n",
      "/kaggle/input/hf-model/merges.txt\n",
      "/kaggle/input/hf-model/tokenizer.json\n",
      "/kaggle/input/hf-model/vocab.json\n",
      "/kaggle/input/hf-model/tokenizer_config.json\n",
      "/kaggle/input/hf-model/pytorch_model.bin\n",
      "/kaggle/input/hf-model/special_tokens_map.json\n",
      "/kaggle/input/model-2/config.json\n",
      "/kaggle/input/model-2/pytorch_model.bin\n",
      "/kaggle/input/detection/Untitled.ipynb\n",
      "/kaggle/input/detection/modeltorch/config.json\n",
      "/kaggle/input/detection/modeltorch/model.safetensors\n",
      "/kaggle/input/detection/saved models/tokenizer_config.json\n",
      "/kaggle/input/detection/saved models/special_tokens_map.json\n",
      "/kaggle/input/detection/saved models/vocab.txt\n",
      "/kaggle/input/detection/saved models/added_tokens.json\n",
      "/kaggle/input/llm-generated-essays/ai_generated_train_essays.csv\n",
      "/kaggle/input/llm-generated-essays/ai_generated_train_essays_gpt-4.csv\n",
      "/kaggle/input/tokenizer/tokenizer/tokenizer.json\n",
      "/kaggle/input/tokenizer/tokenizer/tokenizer_config.json\n",
      "/kaggle/input/tokenizer/tokenizer/special_tokens_map.json\n",
      "/kaggle/input/tokenizer/tokenizer/vocab.txt\n",
      "/kaggle/input/llm-detect-ai-generated-text/sample_submission.csv\n",
      "/kaggle/input/llm-detect-ai-generated-text/train_prompts.csv\n",
      "/kaggle/input/llm-detect-ai-generated-text/test_essays.csv\n",
      "/kaggle/input/llm-detect-ai-generated-text/train_essays.csv\n",
      "/kaggle/input/model-3/kaggle/working/config.json\n",
      "/kaggle/input/model-3/kaggle/working/pytorch_model.bin\n",
      "/kaggle/input/bert-model/kaggle/working/config.json\n",
      "/kaggle/input/bert-model/kaggle/working/model.safetensors\n",
      "/kaggle/input/bert-tokenizer/tokenizer.json\n",
      "/kaggle/input/bert-tokenizer/tokenizer_config.json\n",
      "/kaggle/input/bert-tokenizer/special_tokens_map.json\n",
      "/kaggle/input/bert-tokenizer/vocab.txt\n"
     ]
    }
   ],
   "source": [
    "# This Python 3 environment comes with many helpful analytics libraries installed\n",
    "# It is defined by the kaggle/python Docker image: https://github.com/kaggle/docker-python\n",
    "# For example, here's several helpful packages to load\n",
    "\n",
    "import numpy as np # linear algebra\n",
    "import pandas as pd # data processing, CSV file I/O (e.g. pd.read_csv)\n",
    "\n",
    "# Input data files are available in the read-only \"../input/\" directory\n",
    "# For example, running this (by clicking run or pressing Shift+Enter) will list all files under the input directory\n",
    "\n",
    "import os\n",
    "for dirname, _, filenames in os.walk('/kaggle/input'):\n",
    "    for filename in filenames:\n",
    "        print(os.path.join(dirname, filename))\n",
    "\n",
    "# You can write up to 20GB to the current directory (/kaggle/working/) that gets preserved as output when you create a version using \"Save & Run All\" \n",
    "# You can also write temporary files to /kaggle/temp/, but they won't be saved outside of the current session"
   ]
  },
  {
   "cell_type": "code",
   "execution_count": 2,
   "id": "0611b760",
   "metadata": {
    "execution": {
     "iopub.execute_input": "2023-11-24T17:49:59.047716Z",
     "iopub.status.busy": "2023-11-24T17:49:59.047327Z",
     "iopub.status.idle": "2023-11-24T17:50:27.771189Z",
     "shell.execute_reply": "2023-11-24T17:50:27.770300Z"
    },
    "papermill": {
     "duration": 28.734409,
     "end_time": "2023-11-24T17:50:27.773757",
     "exception": false,
     "start_time": "2023-11-24T17:49:59.039348",
     "status": "completed"
    },
    "tags": []
   },
   "outputs": [
    {
     "name": "stderr",
     "output_type": "stream",
     "text": [
      "/opt/conda/lib/python3.10/site-packages/scipy/__init__.py:146: UserWarning: A NumPy version >=1.16.5 and <1.23.0 is required for this version of SciPy (detected version 1.23.5\n",
      "  warnings.warn(f\"A NumPy version >={np_minversion} and <{np_maxversion}\"\n"
     ]
    }
   ],
   "source": [
    "from transformers import pipeline, AutoTokenizer, AutoModelForSequenceClassification, AdamW\n",
    "\n",
    "from torch.utils.data import DataLoader\n",
    "import torch"
   ]
  },
  {
   "cell_type": "code",
   "execution_count": 3,
   "id": "cf797986",
   "metadata": {
    "execution": {
     "iopub.execute_input": "2023-11-24T17:50:27.790975Z",
     "iopub.status.busy": "2023-11-24T17:50:27.790673Z",
     "iopub.status.idle": "2023-11-24T17:50:27.797511Z",
     "shell.execute_reply": "2023-11-24T17:50:27.796584Z"
    },
    "papermill": {
     "duration": 0.017718,
     "end_time": "2023-11-24T17:50:27.799609",
     "exception": false,
     "start_time": "2023-11-24T17:50:27.781891",
     "status": "completed"
    },
    "tags": []
   },
   "outputs": [],
   "source": [
    "class gptDataset(torch.utils.data.Dataset):\n",
    "    def __init__(self, encodings, labels=None):\n",
    "        self.encodings = encodings\n",
    "        self.labels = [0 for _ in encodings['input_ids']] if labels==None else labels\n",
    "\n",
    "    def __getitem__(self, idx):\n",
    "        item = {key: torch.tensor(val[idx]) for key, val in self.encodings.items()}\n",
    "        item['labels'] = torch.tensor(self.labels[idx])\n",
    "        return item\n",
    "\n",
    "    def __len__(self):\n",
    "        return len(self.labels)"
   ]
  },
  {
   "cell_type": "code",
   "execution_count": 4,
   "id": "903793dd",
   "metadata": {
    "execution": {
     "iopub.execute_input": "2023-11-24T17:50:27.816351Z",
     "iopub.status.busy": "2023-11-24T17:50:27.816078Z",
     "iopub.status.idle": "2023-11-24T17:50:28.010523Z",
     "shell.execute_reply": "2023-11-24T17:50:28.009604Z"
    },
    "papermill": {
     "duration": 0.205436,
     "end_time": "2023-11-24T17:50:28.013043",
     "exception": false,
     "start_time": "2023-11-24T17:50:27.807607",
     "status": "completed"
    },
    "tags": []
   },
   "outputs": [],
   "source": [
    "saved_tokenizer = AutoTokenizer.from_pretrained('/kaggle/input/hf-model')"
   ]
  },
  {
   "cell_type": "code",
   "execution_count": 5,
   "id": "ff2fa615",
   "metadata": {
    "execution": {
     "iopub.execute_input": "2023-11-24T17:50:28.030442Z",
     "iopub.status.busy": "2023-11-24T17:50:28.030042Z",
     "iopub.status.idle": "2023-11-24T17:50:33.690275Z",
     "shell.execute_reply": "2023-11-24T17:50:33.689308Z"
    },
    "papermill": {
     "duration": 5.672045,
     "end_time": "2023-11-24T17:50:33.693062",
     "exception": false,
     "start_time": "2023-11-24T17:50:28.021017",
     "status": "completed"
    },
    "tags": []
   },
   "outputs": [],
   "source": [
    "saved_model = AutoModelForSequenceClassification.from_pretrained('/kaggle/input/hf-model')"
   ]
  },
  {
   "cell_type": "code",
   "execution_count": 6,
   "id": "b8d92304",
   "metadata": {
    "execution": {
     "iopub.execute_input": "2023-11-24T17:50:33.711464Z",
     "iopub.status.busy": "2023-11-24T17:50:33.711072Z",
     "iopub.status.idle": "2023-11-24T17:50:33.750403Z",
     "shell.execute_reply": "2023-11-24T17:50:33.749361Z"
    },
    "papermill": {
     "duration": 0.051048,
     "end_time": "2023-11-24T17:50:33.752640",
     "exception": false,
     "start_time": "2023-11-24T17:50:33.701592",
     "status": "completed"
    },
    "tags": []
   },
   "outputs": [
    {
     "data": {
      "text/html": [
       "<div>\n",
       "<style scoped>\n",
       "    .dataframe tbody tr th:only-of-type {\n",
       "        vertical-align: middle;\n",
       "    }\n",
       "\n",
       "    .dataframe tbody tr th {\n",
       "        vertical-align: top;\n",
       "    }\n",
       "\n",
       "    .dataframe thead th {\n",
       "        text-align: right;\n",
       "    }\n",
       "</style>\n",
       "<table border=\"1\" class=\"dataframe\">\n",
       "  <thead>\n",
       "    <tr style=\"text-align: right;\">\n",
       "      <th></th>\n",
       "      <th>id</th>\n",
       "      <th>prompt_id</th>\n",
       "      <th>text</th>\n",
       "    </tr>\n",
       "  </thead>\n",
       "  <tbody>\n",
       "    <tr>\n",
       "      <th>0</th>\n",
       "      <td>0000aaaa</td>\n",
       "      <td>2</td>\n",
       "      <td>Aaa bbb ccc.</td>\n",
       "    </tr>\n",
       "    <tr>\n",
       "      <th>1</th>\n",
       "      <td>1111bbbb</td>\n",
       "      <td>3</td>\n",
       "      <td>Bbb ccc ddd.</td>\n",
       "    </tr>\n",
       "    <tr>\n",
       "      <th>2</th>\n",
       "      <td>2222cccc</td>\n",
       "      <td>4</td>\n",
       "      <td>CCC ddd eee.</td>\n",
       "    </tr>\n",
       "  </tbody>\n",
       "</table>\n",
       "</div>"
      ],
      "text/plain": [
       "         id  prompt_id          text\n",
       "0  0000aaaa          2  Aaa bbb ccc.\n",
       "1  1111bbbb          3  Bbb ccc ddd.\n",
       "2  2222cccc          4  CCC ddd eee."
      ]
     },
     "execution_count": 6,
     "metadata": {},
     "output_type": "execute_result"
    }
   ],
   "source": [
    "train = pd.read_csv('/kaggle/input/llm-detect-ai-generated-text/test_essays.csv')\n",
    "train"
   ]
  },
  {
   "cell_type": "code",
   "execution_count": 7,
   "id": "3b1722c4",
   "metadata": {
    "execution": {
     "iopub.execute_input": "2023-11-24T17:50:33.771586Z",
     "iopub.status.busy": "2023-11-24T17:50:33.771260Z",
     "iopub.status.idle": "2023-11-24T17:50:33.775927Z",
     "shell.execute_reply": "2023-11-24T17:50:33.774977Z"
    },
    "papermill": {
     "duration": 0.016379,
     "end_time": "2023-11-24T17:50:33.778072",
     "exception": false,
     "start_time": "2023-11-24T17:50:33.761693",
     "status": "completed"
    },
    "tags": []
   },
   "outputs": [],
   "source": [
    "train_texts = train['text'].tolist()"
   ]
  },
  {
   "cell_type": "code",
   "execution_count": 8,
   "id": "e46ac938",
   "metadata": {
    "execution": {
     "iopub.execute_input": "2023-11-24T17:50:33.796046Z",
     "iopub.status.busy": "2023-11-24T17:50:33.795769Z",
     "iopub.status.idle": "2023-11-24T17:50:33.820876Z",
     "shell.execute_reply": "2023-11-24T17:50:33.819908Z"
    },
    "papermill": {
     "duration": 0.036469,
     "end_time": "2023-11-24T17:50:33.823029",
     "exception": false,
     "start_time": "2023-11-24T17:50:33.786560",
     "status": "completed"
    },
    "tags": []
   },
   "outputs": [],
   "source": [
    "test_encodings = saved_tokenizer(train_texts, truncation=True, padding=True)"
   ]
  },
  {
   "cell_type": "code",
   "execution_count": 9,
   "id": "f392a655",
   "metadata": {
    "execution": {
     "iopub.execute_input": "2023-11-24T17:50:33.840959Z",
     "iopub.status.busy": "2023-11-24T17:50:33.840650Z",
     "iopub.status.idle": "2023-11-24T17:50:33.845072Z",
     "shell.execute_reply": "2023-11-24T17:50:33.844058Z"
    },
    "papermill": {
     "duration": 0.015924,
     "end_time": "2023-11-24T17:50:33.847272",
     "exception": false,
     "start_time": "2023-11-24T17:50:33.831348",
     "status": "completed"
    },
    "tags": []
   },
   "outputs": [],
   "source": [
    "dataset = gptDataset(test_encodings)"
   ]
  },
  {
   "cell_type": "code",
   "execution_count": 10,
   "id": "d33851cf",
   "metadata": {
    "execution": {
     "iopub.execute_input": "2023-11-24T17:50:33.865432Z",
     "iopub.status.busy": "2023-11-24T17:50:33.865120Z",
     "iopub.status.idle": "2023-11-24T17:50:33.869877Z",
     "shell.execute_reply": "2023-11-24T17:50:33.868838Z"
    },
    "papermill": {
     "duration": 0.016253,
     "end_time": "2023-11-24T17:50:33.871988",
     "exception": false,
     "start_time": "2023-11-24T17:50:33.855735",
     "status": "completed"
    },
    "tags": []
   },
   "outputs": [],
   "source": [
    "loader = DataLoader(dataset)"
   ]
  },
  {
   "cell_type": "code",
   "execution_count": 11,
   "id": "a6308cac",
   "metadata": {
    "execution": {
     "iopub.execute_input": "2023-11-24T17:50:33.889891Z",
     "iopub.status.busy": "2023-11-24T17:50:33.889580Z",
     "iopub.status.idle": "2023-11-24T17:50:33.893913Z",
     "shell.execute_reply": "2023-11-24T17:50:33.892933Z"
    },
    "papermill": {
     "duration": 0.015799,
     "end_time": "2023-11-24T17:50:33.896120",
     "exception": false,
     "start_time": "2023-11-24T17:50:33.880321",
     "status": "completed"
    },
    "tags": []
   },
   "outputs": [],
   "source": [
    "# gpt3 = pd.read_csv('/kaggle/input/llm-generated-essays/ai_generated_train_essays.csv')\n",
    "# gpt4 = pd.read_csv('/kaggle/input/llm-generated-essays/ai_generated_train_essays_gpt-4.csv')\n",
    "# gpt = pd.concat([train,gpt3,gpt4])\n",
    "# gen = gpt['text'].to_list()\n",
    "# tags = gpt['generated'].to_list()\n",
    "# gen = saved_tokenizer(gen, truncation=True, padding=True)\n",
    "# dataset1 = gptDataset(gen,tags)"
   ]
  },
  {
   "cell_type": "code",
   "execution_count": 12,
   "id": "82ca4995",
   "metadata": {
    "execution": {
     "iopub.execute_input": "2023-11-24T17:50:33.914154Z",
     "iopub.status.busy": "2023-11-24T17:50:33.913842Z",
     "iopub.status.idle": "2023-11-24T17:50:33.918831Z",
     "shell.execute_reply": "2023-11-24T17:50:33.917886Z"
    },
    "papermill": {
     "duration": 0.016479,
     "end_time": "2023-11-24T17:50:33.920934",
     "exception": false,
     "start_time": "2023-11-24T17:50:33.904455",
     "status": "completed"
    },
    "tags": []
   },
   "outputs": [],
   "source": [
    "# device = torch.device('cuda') if torch.cuda.is_available() else torch.device('cpu')\n",
    "# print(device)\n",
    "# model = DistilBertForSequenceClassification.from_pretrained('/kaggle/input/model-2')\n",
    "# model.to(device)\n",
    "# model.train()\n",
    "\n",
    "# train_loader = DataLoader(dataset1, batch_size=8, shuffle=True)\n",
    "\n",
    "# optim = AdamW(model.parameters(), lr=5e-5)\n",
    "\n",
    "# for epoch in range(30):\n",
    "#     print(f\"Epoch : {epoch+1}--\")\n",
    "#     for batch in train_loader:\n",
    "#         optim.zero_grad()\n",
    "#         input_ids = batch['input_ids'].to(device)\n",
    "#         attention_mask = batch['attention_mask'].to(device)\n",
    "#         labels = batch['labels'].to(device)\n",
    "#         outputs = model(input_ids, attention_mask=attention_mask, labels=labels)\n",
    "#         loss = outputs[0]\n",
    "#         loss.backward()\n",
    "#         optim.step()\n",
    "\n",
    "# model.eval()"
   ]
  },
  {
   "cell_type": "code",
   "execution_count": 13,
   "id": "0970879f",
   "metadata": {
    "execution": {
     "iopub.execute_input": "2023-11-24T17:50:33.938930Z",
     "iopub.status.busy": "2023-11-24T17:50:33.938613Z",
     "iopub.status.idle": "2023-11-24T17:50:33.942962Z",
     "shell.execute_reply": "2023-11-24T17:50:33.941943Z"
    },
    "papermill": {
     "duration": 0.015905,
     "end_time": "2023-11-24T17:50:33.945274",
     "exception": false,
     "start_time": "2023-11-24T17:50:33.929369",
     "status": "completed"
    },
    "tags": []
   },
   "outputs": [],
   "source": [
    "# model.save_pretrained('/kaggle/working')"
   ]
  },
  {
   "cell_type": "code",
   "execution_count": 14,
   "id": "9f9c394f",
   "metadata": {
    "execution": {
     "iopub.execute_input": "2023-11-24T17:50:33.963372Z",
     "iopub.status.busy": "2023-11-24T17:50:33.963050Z",
     "iopub.status.idle": "2023-11-24T17:50:33.979165Z",
     "shell.execute_reply": "2023-11-24T17:50:33.978235Z"
    },
    "papermill": {
     "duration": 0.027551,
     "end_time": "2023-11-24T17:50:33.981377",
     "exception": false,
     "start_time": "2023-11-24T17:50:33.953826",
     "status": "completed"
    },
    "tags": []
   },
   "outputs": [
    {
     "data": {
      "text/plain": [
       "RobertaForSequenceClassification(\n",
       "  (roberta): RobertaModel(\n",
       "    (embeddings): RobertaEmbeddings(\n",
       "      (word_embeddings): Embedding(50265, 768, padding_idx=1)\n",
       "      (position_embeddings): Embedding(514, 768, padding_idx=1)\n",
       "      (token_type_embeddings): Embedding(1, 768)\n",
       "      (LayerNorm): LayerNorm((768,), eps=1e-05, elementwise_affine=True)\n",
       "      (dropout): Dropout(p=0.1, inplace=False)\n",
       "    )\n",
       "    (encoder): RobertaEncoder(\n",
       "      (layer): ModuleList(\n",
       "        (0-11): 12 x RobertaLayer(\n",
       "          (attention): RobertaAttention(\n",
       "            (self): RobertaSelfAttention(\n",
       "              (query): Linear(in_features=768, out_features=768, bias=True)\n",
       "              (key): Linear(in_features=768, out_features=768, bias=True)\n",
       "              (value): Linear(in_features=768, out_features=768, bias=True)\n",
       "              (dropout): Dropout(p=0.1, inplace=False)\n",
       "            )\n",
       "            (output): RobertaSelfOutput(\n",
       "              (dense): Linear(in_features=768, out_features=768, bias=True)\n",
       "              (LayerNorm): LayerNorm((768,), eps=1e-05, elementwise_affine=True)\n",
       "              (dropout): Dropout(p=0.1, inplace=False)\n",
       "            )\n",
       "          )\n",
       "          (intermediate): RobertaIntermediate(\n",
       "            (dense): Linear(in_features=768, out_features=3072, bias=True)\n",
       "            (intermediate_act_fn): GELUActivation()\n",
       "          )\n",
       "          (output): RobertaOutput(\n",
       "            (dense): Linear(in_features=3072, out_features=768, bias=True)\n",
       "            (LayerNorm): LayerNorm((768,), eps=1e-05, elementwise_affine=True)\n",
       "            (dropout): Dropout(p=0.1, inplace=False)\n",
       "          )\n",
       "        )\n",
       "      )\n",
       "    )\n",
       "  )\n",
       "  (classifier): RobertaClassificationHead(\n",
       "    (dense): Linear(in_features=768, out_features=768, bias=True)\n",
       "    (dropout): Dropout(p=0.1, inplace=False)\n",
       "    (out_proj): Linear(in_features=768, out_features=2, bias=True)\n",
       "  )\n",
       ")"
      ]
     },
     "execution_count": 14,
     "metadata": {},
     "output_type": "execute_result"
    }
   ],
   "source": [
    "saved_model.to('cpu')"
   ]
  },
  {
   "cell_type": "code",
   "execution_count": 15,
   "id": "05f8cd73",
   "metadata": {
    "_kg_hide-input": false,
    "execution": {
     "iopub.execute_input": "2023-11-24T17:50:33.999667Z",
     "iopub.status.busy": "2023-11-24T17:50:33.999385Z",
     "iopub.status.idle": "2023-11-24T17:50:34.480129Z",
     "shell.execute_reply": "2023-11-24T17:50:34.478966Z"
    },
    "papermill": {
     "duration": 0.493021,
     "end_time": "2023-11-24T17:50:34.482910",
     "exception": false,
     "start_time": "2023-11-24T17:50:33.989889",
     "status": "completed"
    },
    "scrolled": true,
    "tags": []
   },
   "outputs": [],
   "source": [
    "preds=[]\n",
    "saved_model.eval()\n",
    "i=1\n",
    "for batch in loader:\n",
    "#     print(i)\n",
    "    i+=1\n",
    "    batch = {k: v for k, v in batch.items()}\n",
    "    with torch.no_grad():\n",
    "        outputs = saved_model(**batch)\n",
    "\n",
    "    logits = outputs.logits\n",
    "    predictions = torch.argmax(logits, dim=-1)\n",
    "    preds.append(predictions[0].item())"
   ]
  },
  {
   "cell_type": "code",
   "execution_count": 16,
   "id": "728faf36",
   "metadata": {
    "execution": {
     "iopub.execute_input": "2023-11-24T17:50:34.503553Z",
     "iopub.status.busy": "2023-11-24T17:50:34.502679Z",
     "iopub.status.idle": "2023-11-24T17:50:34.509253Z",
     "shell.execute_reply": "2023-11-24T17:50:34.508299Z"
    },
    "papermill": {
     "duration": 0.018572,
     "end_time": "2023-11-24T17:50:34.511321",
     "exception": false,
     "start_time": "2023-11-24T17:50:34.492749",
     "status": "completed"
    },
    "tags": []
   },
   "outputs": [
    {
     "data": {
      "text/plain": [
       "[0, 0, 0]"
      ]
     },
     "execution_count": 16,
     "metadata": {},
     "output_type": "execute_result"
    }
   ],
   "source": [
    "preds"
   ]
  },
  {
   "cell_type": "code",
   "execution_count": 17,
   "id": "87f3c738",
   "metadata": {
    "execution": {
     "iopub.execute_input": "2023-11-24T17:50:34.529387Z",
     "iopub.status.busy": "2023-11-24T17:50:34.529042Z",
     "iopub.status.idle": "2023-11-24T17:50:34.533706Z",
     "shell.execute_reply": "2023-11-24T17:50:34.532766Z"
    },
    "papermill": {
     "duration": 0.01629,
     "end_time": "2023-11-24T17:50:34.536005",
     "exception": false,
     "start_time": "2023-11-24T17:50:34.519715",
     "status": "completed"
    },
    "tags": []
   },
   "outputs": [],
   "source": [
    "train_id = train['id'].tolist()"
   ]
  },
  {
   "cell_type": "code",
   "execution_count": 18,
   "id": "a1ab423f",
   "metadata": {
    "execution": {
     "iopub.execute_input": "2023-11-24T17:50:34.554637Z",
     "iopub.status.busy": "2023-11-24T17:50:34.554341Z",
     "iopub.status.idle": "2023-11-24T17:50:34.559103Z",
     "shell.execute_reply": "2023-11-24T17:50:34.558171Z"
    },
    "papermill": {
     "duration": 0.016407,
     "end_time": "2023-11-24T17:50:34.561282",
     "exception": false,
     "start_time": "2023-11-24T17:50:34.544875",
     "status": "completed"
    },
    "tags": []
   },
   "outputs": [],
   "source": [
    "submission = pd.DataFrame({'id':train_id,'generated':preds})"
   ]
  },
  {
   "cell_type": "code",
   "execution_count": 19,
   "id": "56b6f76a",
   "metadata": {
    "execution": {
     "iopub.execute_input": "2023-11-24T17:50:34.579576Z",
     "iopub.status.busy": "2023-11-24T17:50:34.579235Z",
     "iopub.status.idle": "2023-11-24T17:50:34.588798Z",
     "shell.execute_reply": "2023-11-24T17:50:34.587884Z"
    },
    "papermill": {
     "duration": 0.021154,
     "end_time": "2023-11-24T17:50:34.590987",
     "exception": false,
     "start_time": "2023-11-24T17:50:34.569833",
     "status": "completed"
    },
    "tags": []
   },
   "outputs": [
    {
     "data": {
      "text/html": [
       "<div>\n",
       "<style scoped>\n",
       "    .dataframe tbody tr th:only-of-type {\n",
       "        vertical-align: middle;\n",
       "    }\n",
       "\n",
       "    .dataframe tbody tr th {\n",
       "        vertical-align: top;\n",
       "    }\n",
       "\n",
       "    .dataframe thead th {\n",
       "        text-align: right;\n",
       "    }\n",
       "</style>\n",
       "<table border=\"1\" class=\"dataframe\">\n",
       "  <thead>\n",
       "    <tr style=\"text-align: right;\">\n",
       "      <th></th>\n",
       "      <th>id</th>\n",
       "      <th>generated</th>\n",
       "    </tr>\n",
       "  </thead>\n",
       "  <tbody>\n",
       "    <tr>\n",
       "      <th>0</th>\n",
       "      <td>0000aaaa</td>\n",
       "      <td>0</td>\n",
       "    </tr>\n",
       "    <tr>\n",
       "      <th>1</th>\n",
       "      <td>1111bbbb</td>\n",
       "      <td>0</td>\n",
       "    </tr>\n",
       "    <tr>\n",
       "      <th>2</th>\n",
       "      <td>2222cccc</td>\n",
       "      <td>0</td>\n",
       "    </tr>\n",
       "  </tbody>\n",
       "</table>\n",
       "</div>"
      ],
      "text/plain": [
       "         id  generated\n",
       "0  0000aaaa          0\n",
       "1  1111bbbb          0\n",
       "2  2222cccc          0"
      ]
     },
     "execution_count": 19,
     "metadata": {},
     "output_type": "execute_result"
    }
   ],
   "source": [
    "submission"
   ]
  },
  {
   "cell_type": "code",
   "execution_count": 20,
   "id": "bcb2a3fd",
   "metadata": {
    "execution": {
     "iopub.execute_input": "2023-11-24T17:50:34.610029Z",
     "iopub.status.busy": "2023-11-24T17:50:34.609361Z",
     "iopub.status.idle": "2023-11-24T17:50:34.618992Z",
     "shell.execute_reply": "2023-11-24T17:50:34.618130Z"
    },
    "papermill": {
     "duration": 0.021069,
     "end_time": "2023-11-24T17:50:34.621092",
     "exception": false,
     "start_time": "2023-11-24T17:50:34.600023",
     "status": "completed"
    },
    "tags": []
   },
   "outputs": [],
   "source": [
    "submission.to_csv('/kaggle/working/submission.csv',index=False)"
   ]
  },
  {
   "cell_type": "code",
   "execution_count": 21,
   "id": "f7ad3d53",
   "metadata": {
    "execution": {
     "iopub.execute_input": "2023-11-24T17:50:34.639170Z",
     "iopub.status.busy": "2023-11-24T17:50:34.638484Z",
     "iopub.status.idle": "2023-11-24T17:50:34.642360Z",
     "shell.execute_reply": "2023-11-24T17:50:34.641433Z"
    },
    "papermill": {
     "duration": 0.015027,
     "end_time": "2023-11-24T17:50:34.644355",
     "exception": false,
     "start_time": "2023-11-24T17:50:34.629328",
     "status": "completed"
    },
    "tags": []
   },
   "outputs": [],
   "source": [
    "# from IPython.display import FileLink \n",
    "# FileLink('/kaggle/working/model/config.json')"
   ]
  },
  {
   "cell_type": "code",
   "execution_count": 22,
   "id": "14fc169e",
   "metadata": {
    "execution": {
     "iopub.execute_input": "2023-11-24T17:50:34.662683Z",
     "iopub.status.busy": "2023-11-24T17:50:34.662417Z",
     "iopub.status.idle": "2023-11-24T17:50:34.666738Z",
     "shell.execute_reply": "2023-11-24T17:50:34.665846Z"
    },
    "papermill": {
     "duration": 0.016073,
     "end_time": "2023-11-24T17:50:34.668919",
     "exception": false,
     "start_time": "2023-11-24T17:50:34.652846",
     "status": "completed"
    },
    "tags": []
   },
   "outputs": [],
   "source": [
    "# import os\n",
    "# import subprocess\n",
    "# from IPython.display import FileLink, display\n",
    "\n",
    "# def download_file(path, download_file_name):\n",
    "#     os.chdir('/kaggle/working/')\n",
    "#     zip_name = f\"/kaggle/working/{download_file_name}.zip\"\n",
    "#     command = f\"zip {zip_name} {path} -r\"\n",
    "#     result = subprocess.run(command, shell=True, capture_output=True, text=True)\n",
    "#     if result.returncode != 0:\n",
    "#         print(\"Unable to run zip command!\")\n",
    "#         print(result.stderr)\n",
    "#         return\n",
    "#     display(FileLink(f'{download_file_name}.zip'))"
   ]
  },
  {
   "cell_type": "code",
   "execution_count": 23,
   "id": "3d662153",
   "metadata": {
    "execution": {
     "iopub.execute_input": "2023-11-24T17:50:34.687516Z",
     "iopub.status.busy": "2023-11-24T17:50:34.686949Z",
     "iopub.status.idle": "2023-11-24T17:50:34.690977Z",
     "shell.execute_reply": "2023-11-24T17:50:34.690010Z"
    },
    "papermill": {
     "duration": 0.015471,
     "end_time": "2023-11-24T17:50:34.693003",
     "exception": false,
     "start_time": "2023-11-24T17:50:34.677532",
     "status": "completed"
    },
    "tags": []
   },
   "outputs": [],
   "source": [
    "# download_file('/kaggle/working/','out')"
   ]
  },
  {
   "cell_type": "code",
   "execution_count": null,
   "id": "e761054d",
   "metadata": {
    "papermill": {
     "duration": 0.008738,
     "end_time": "2023-11-24T17:50:34.710660",
     "exception": false,
     "start_time": "2023-11-24T17:50:34.701922",
     "status": "completed"
    },
    "tags": []
   },
   "outputs": [],
   "source": []
  }
 ],
 "metadata": {
  "kaggle": {
   "accelerator": "nvidiaTeslaT4",
   "dataSources": [
    {
     "databundleVersionId": 6888007,
     "sourceId": 61542,
     "sourceType": "competition"
    },
    {
     "datasetId": 3937441,
     "sourceId": 6868189,
     "sourceType": "datasetVersion"
    },
    {
     "datasetId": 3961529,
     "sourceId": 6896363,
     "sourceType": "datasetVersion"
    },
    {
     "datasetId": 3961567,
     "sourceId": 6896417,
     "sourceType": "datasetVersion"
    },
    {
     "datasetId": 3963842,
     "sourceId": 6900563,
     "sourceType": "datasetVersion"
    },
    {
     "datasetId": 3975188,
     "sourceId": 6922927,
     "sourceType": "datasetVersion"
    },
    {
     "datasetId": 4006972,
     "sourceId": 6973610,
     "sourceType": "datasetVersion"
    },
    {
     "datasetId": 4007101,
     "sourceId": 6973807,
     "sourceType": "datasetVersion"
    },
    {
     "datasetId": 4054088,
     "sourceId": 7045380,
     "sourceType": "datasetVersion"
    }
   ],
   "dockerImageVersionId": 30558,
   "isGpuEnabled": true,
   "isInternetEnabled": false,
   "language": "python",
   "sourceType": "notebook"
  },
  "kernelspec": {
   "display_name": "Python 3",
   "language": "python",
   "name": "python3"
  },
  "language_info": {
   "codemirror_mode": {
    "name": "ipython",
    "version": 3
   },
   "file_extension": ".py",
   "mimetype": "text/x-python",
   "name": "python",
   "nbconvert_exporter": "python",
   "pygments_lexer": "ipython3",
   "version": "3.10.12"
  },
  "papermill": {
   "default_parameters": {},
   "duration": 44.61989,
   "end_time": "2023-11-24T17:50:37.459680",
   "environment_variables": {},
   "exception": null,
   "input_path": "__notebook__.ipynb",
   "output_path": "__notebook__.ipynb",
   "parameters": {},
   "start_time": "2023-11-24T17:49:52.839790",
   "version": "2.4.0"
  }
 },
 "nbformat": 4,
 "nbformat_minor": 5
}
